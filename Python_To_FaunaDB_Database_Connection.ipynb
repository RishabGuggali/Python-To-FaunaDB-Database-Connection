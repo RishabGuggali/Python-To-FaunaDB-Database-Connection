{
  "nbformat": 4,
  "nbformat_minor": 0,
  "metadata": {
    "colab": {
      "name": "Python-To-FaunaDB-Database-Connection.ipynb",
      "provenance": [],
      "authorship_tag": "ABX9TyNLRQhV7ahxDYTZN5/dYrnc"
    },
    "kernelspec": {
      "name": "python3",
      "display_name": "Python 3"
    }
  },
  "cells": [
    {
      "cell_type": "code",
      "metadata": {
        "id": "HpNcRNeOAE40",
        "colab_type": "code",
        "colab": {}
      },
      "source": [
        "from faunadb import query as q\n",
        "from faunadb.objects import Ref\n",
        "from faunadb.client import FaunaClient\n",
        " \n",
        "client = FaunaClient(secret=\"Enter-Your-Secret-key-from-FaunaDB\")\n",
        "\n",
        "#The below query inserts the new document in the respective Collection\n",
        "client.query(\n",
        "   q.create(\n",
        "     q.collection(\"Enter-Your-Collection-Name\"),\n",
        "     {\"data\": {\"Key\" : \"Value\", \"Key\" : \"Value\"}}  #Enter the Key:Value pair that you want to insert   \n",
        "   )) \n",
        "\n",
        "#The below query lists all indexes present in json format \n",
        "indexes = client.query(q.paginate(q.indexes()))\n",
        "print(indexes)\n",
        "\n",
        "#The below query retrieve's the particular document from a collection by passing the document id and collection name\n",
        "print(client.query(\n",
        "  q.get(q.ref(q.collection('Enter-Collection-Name'), 'Enter-Document-ref-ID'))\n",
        "))\n",
        "\n",
        "#The below query retrieve's the particular document from a collection by using the index and the search key\n",
        "print(client.query(\n",
        "   q.get(\n",
        "    q.match(q.index('Index-Name'), 'Search-Key'))\n",
        "))\n",
        " "
      ],
      "execution_count": null,
      "outputs": []
    }
  ]
}